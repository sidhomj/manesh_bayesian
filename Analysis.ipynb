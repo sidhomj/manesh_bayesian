{
 "cells": [
  {
   "cell_type": "markdown",
   "metadata": {},
   "source": [
    "# Bayesian Analysis of Clinical Scenario in \"Don't Drop The Anchor\" by Manesh, R.S., et. al. (2014)"
   ]
  },
  {
   "cell_type": "markdown",
   "metadata": {},
   "source": [
    "### Introduction"
   ]
  },
  {
   "cell_type": "code",
   "execution_count": 1,
   "metadata": {},
   "outputs": [],
   "source": [
    "import pymc3 as pm\n",
    "import arviz as az\n",
    "import numpy as np"
   ]
  },
  {
   "cell_type": "code",
   "execution_count": 2,
   "metadata": {},
   "outputs": [],
   "source": [
    "def run_model():\n",
    "    likelihood_ca19_9 = 0.25\n",
    "    likelihood_fna = 0.11\n",
    "    certainty = 1\n",
    "    alpha = 9 * certainty\n",
    "    beta = 1 * certainty\n",
    "    mean_prior = alpha / (alpha + beta)\n",
    "    var_prior = (alpha * beta) / (np.power(alpha + beta, 2) * (alpha + beta + 1))\n",
    "\n",
    "    with pm.Model() as model:\n",
    "        # pre_test prob 1\n",
    "        p_1 = pm.Beta('p_1', alpha=alpha, beta=beta)\n",
    "        # p_1 = pm.Uniform('p_1')\n",
    "        o_1 = pm.Deterministic('o_1', (p_1 / (1 - p_1)))\n",
    "        l_ca19_9 = pm.HalfNormal('l_ca19_9', sigma=likelihood_ca19_9)\n",
    "\n",
    "        # prob after CA-19-9\n",
    "        o_2 = pm.Deterministic('o_2', o_1 * l_ca19_9)\n",
    "        p_2 = pm.Deterministic('p_2', o_2 / (o_2 + 1))\n",
    "\n",
    "        # prob after FNA\n",
    "        l_fna = pm.HalfNormal('l_fna', sigma=likelihood_fna)\n",
    "        o_3 = pm.Deterministic('o_3', o_2 * l_fna)\n",
    "        p_3 = pm.Deterministic('p_3', o_3 / (o_3 + 1))\n",
    "\n",
    "        model_trace = pm.sample(cores=1, chains=1, draws=10000)\n",
    "    \n",
    "    return model_trace"
   ]
  },
  {
   "cell_type": "code",
   "execution_count": null,
   "metadata": {},
   "outputs": [
    {
     "name": "stderr",
     "output_type": "stream",
     "text": [
      "INFO (theano.gof.compilelock): Waiting for existing lock by process '32479' (I am process '33406')\n",
      "INFO (theano.gof.compilelock): To manually release the lock, delete /Users/johnwilliam/.theano/compiledir_macOS-10.15.5-x86_64-i386-64bit-i386-3.8.2-64/lock_dir\n"
     ]
    }
   ],
   "source": [
    "model_trace = run_model()"
   ]
  },
  {
   "cell_type": "code",
   "execution_count": null,
   "metadata": {},
   "outputs": [],
   "source": [
    "az.plot_trace(model_trace,var_names=['p_1','l_ca19_9','p_2'])\n",
    "az.plot_trace(model_trace,var_names=['p_2','l_fna','p_3'])\n",
    "az.plot_trace(model_trace,var_names=['p_1','p_2','p_3'])"
   ]
  }
 ],
 "metadata": {
  "kernelspec": {
   "display_name": "Python 3",
   "language": "python",
   "name": "python3"
  },
  "language_info": {
   "codemirror_mode": {
    "name": "ipython",
    "version": 3
   },
   "file_extension": ".py",
   "mimetype": "text/x-python",
   "name": "python",
   "nbconvert_exporter": "python",
   "pygments_lexer": "ipython3",
   "version": "3.8.2"
  }
 },
 "nbformat": 4,
 "nbformat_minor": 4
}
